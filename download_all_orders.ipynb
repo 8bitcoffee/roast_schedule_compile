{
 "cells": [
  {
   "cell_type": "markdown",
   "metadata": {},
   "source": [
    "Import statements"
   ]
  },
  {
   "cell_type": "code",
   "execution_count": null,
   "metadata": {},
   "outputs": [],
   "source": [
    "import requests\n",
    "import json\n",
    "import pandas as pd\n",
    "import numpy as np\n",
    "import os\n",
    "from datetime import datetime\n",
    "!pip install xlsxwriter\n",
    "import xlsxwriter\n",
    "from copy import deepcopy\n",
    "from google.colab import files\n",
    "from google.colab import drive\n",
    "drive.mount('/content/drive/')\n",
    "\n",
    "from google.colab import auth\n",
    "auth.authenticate_user()\n",
    "import gspread\n",
    "from google.auth import default\n",
    "creds, _ = default()\n",
    "\n",
    "gc = gspread.authorize(creds)"
   ]
  },
  {
   "cell_type": "markdown",
   "metadata": {},
   "source": [
    "API queries for wholesale"
   ]
  },
  {
   "cell_type": "code",
   "execution_count": null,
   "metadata": {},
   "outputs": [],
   "source": [
    "session = requests.Session()\n",
    "\n",
    "all_orders = []\n",
    "all_retail_orders = []\n",
    "all_wholesale_orders = []\n",
    "\n",
    "API_KEY = \"API_KEY_HERE\"\n",
    "PASSWORD = \"PSWD_HERE\"\n",
    "SHOP_NAME = \"WHOLESALE-SITE-NAME\"\n",
    "\n",
    "url = \"https://%s.myshopify.com/admin/api/2022-07/orders.json?fulfillment_status=unfulfilled\" % (SHOP_NAME)\n",
    "\n",
    "wholesale_orders = requests.get(url, auth=(API_KEY, PASSWORD))\n",
    "\n",
    "for orders in wholesale_orders.json()['orders']:\n",
    "  all_wholesale_orders.append(orders)\n",
    "\n",
    "if 'link' in wholesale_orders.headers:\n",
    "  while \"\"\">; rel=\"next\"\"\" in wholesale_orders.headers['link']:\n",
    "    link_str = wholesale_orders.headers['Link']\n",
    "    if \"\"\"rel=\"previous\"\"\" in link_str:\n",
    "      sub1 = \", <\"\n",
    "      sub2 = \"\"\">; rel=\"next\"\"\"\n",
    "\n",
    "      idx1 = link_str.index(sub1)\n",
    "      idx2 = link_str.index(sub2)\n",
    "\n",
    "      url = ''\n",
    "    else:\n",
    "      sub1 = \"<\"\n",
    "      sub2 = \"\"\">; rel=\"next\"\"\"\n",
    "\n",
    "      idx1 = link_str.index(sub1)\n",
    "      idx2 = link_str.index(sub2)\n",
    "\n",
    "      url = ''\n",
    "\n",
    "    for idx in range(idx1 + len(sub1), idx2):\n",
    "        url = url + link_str[idx]\n",
    "\n",
    "    wholesale_orders = requests.get(url, auth=(API_KEY, PASSWORD))\n",
    "    for orders in wholesale_orders.json()['orders']:\n",
    "      all_wholesale_orders.append(orders)"
   ]
  },
  {
   "cell_type": "markdown",
   "metadata": {},
   "source": [
    "API queries for retail"
   ]
  },
  {
   "cell_type": "code",
   "execution_count": null,
   "metadata": {},
   "outputs": [],
   "source": [
    "API_KEY = \"API_KEY_HERE\"\n",
    "PASSWORD = \"PSWD_HERE\"\n",
    "SHOP_NAME = \"RETAIL-SITE-NAME\"\n",
    "\n",
    "url = \"https://%s.myshopify.com/admin/api/2022-07/orders.json?fulfillment_status=unfulfilled&limit=10\" % (SHOP_NAME)\n",
    "\n",
    "retail_orders = requests.get(url, auth=(API_KEY, PASSWORD))\n",
    "\n",
    "for orders in retail_orders.json()['orders']:\n",
    "  all_retail_orders.append(orders)\n",
    "\n",
    "if 'link' in retail_orders.headers:\n",
    "  while \"\"\">; rel=\"next\"\"\" in retail_orders.headers['link']:\n",
    "    link_str = retail_orders.headers['Link']\n",
    "    if \"\"\"rel=\"previous\"\"\" in link_str:\n",
    "      sub1 = \", <\"\n",
    "      sub2 = \"\"\">; rel=\"next\"\"\"\n",
    "\n",
    "      idx1 = link_str.index(sub1)\n",
    "      idx2 = link_str.index(sub2)\n",
    "\n",
    "      url = ''\n",
    "    else:\n",
    "      sub1 = \"<\"\n",
    "      sub2 = \"\"\">; rel=\"next\"\"\"\n",
    "\n",
    "      idx1 = link_str.index(sub1)\n",
    "      idx2 = link_str.index(sub2)\n",
    "\n",
    "      url = ''\n",
    "    for idx in range(idx1 + len(sub1), idx2):\n",
    "        url = url + link_str[idx]\n",
    "    retail_orders = requests.get(url, auth=(API_KEY, PASSWORD))\n",
    "    for orders in retail_orders.json()['orders']:\n",
    "      all_retail_orders.append(orders)"
   ]
  }
 ],
 "metadata": {
  "language_info": {
   "name": "python"
  }
 },
 "nbformat": 4,
 "nbformat_minor": 2
}
